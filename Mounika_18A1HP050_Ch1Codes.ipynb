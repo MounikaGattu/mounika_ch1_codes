{
 "cells": [
  {
   "cell_type": "markdown",
   "metadata": {},
   "source": [
    "# Math Basics"
   ]
  },
  {
   "cell_type": "markdown",
   "metadata": {},
   "source": [
    "# 1)Vectors"
   ]
  },
  {
   "cell_type": "code",
   "execution_count": 4,
   "metadata": {},
   "outputs": [
    {
     "data": {
      "text/plain": [
       "[1, 2, 3, 4, 5]"
      ]
     },
     "execution_count": 4,
     "metadata": {},
     "output_type": "execute_result"
    }
   ],
   "source": [
    "## Assigning values to vector x \n",
    "\n",
    "x = [1, 2, 3, 4, 5]\n",
    "#display the output.\n",
    "x"
   ]
  },
  {
   "cell_type": "code",
   "execution_count": 11,
   "metadata": {},
   "outputs": [
    {
     "name": "stdout",
     "output_type": "stream",
     "text": [
      "[1 2 3 4 5]\n",
      "<class 'numpy.ndarray'>\n"
     ]
    }
   ],
   "source": [
    "# import numpy package\n",
    "import numpy as np\n",
    "#assigning x with the array values\n",
    "x = np.array([1, 2, 3, 4, 5])\n",
    "#display the output x\n",
    "print(x)\n",
    "#display the type of x\n",
    "print(type(x))"
   ]
  },
  {
   "cell_type": "markdown",
   "metadata": {},
   "source": [
    "# 2)Matrices"
   ]
  },
  {
   "cell_type": "code",
   "execution_count": 12,
   "metadata": {},
   "outputs": [
    {
     "name": "stdout",
     "output_type": "stream",
     "text": [
      "[[1 5 2]\n",
      " [4 7 4]\n",
      " [2 0 9]]\n",
      "(3, 3)\n"
     ]
    }
   ],
   "source": [
    "## assign values to matrix m.\n",
    "\n",
    "m = np.array([[1, 5, 2],\n",
    "              [4, 7, 4],\n",
    "              [2, 0, 9]])\n",
    "\n",
    "# display matrix m\n",
    "print(m)\n",
    "\n",
    "# know the dimension/size of matrix m\n",
    "print(m.shape)"
   ]
  },
  {
   "cell_type": "markdown",
   "metadata": {},
   "source": [
    "# 2a)Matrix Transpose"
   ]
  },
  {
   "cell_type": "code",
   "execution_count": 13,
   "metadata": {},
   "outputs": [
    {
     "name": "stdout",
     "output_type": "stream",
     "text": [
      "Matrix Transpose:\n",
      " [[1 4 2]\n",
      " [5 7 0]\n",
      " [2 4 9]] \n",
      "\n"
     ]
    }
   ],
   "source": [
    "# transpose the matrix m and assign the values to matrix n.\n",
    "print('Matrix Transpose:\\n', m.transpose(), '\\n')"
   ]
  },
  {
   "cell_type": "markdown",
   "metadata": {},
   "source": [
    "# 2b)Matrix Determinant"
   ]
  },
  {
   "cell_type": "code",
   "execution_count": 14,
   "metadata": {},
   "outputs": [
    {
     "name": "stdout",
     "output_type": "stream",
     "text": [
      "Matrix Determinant: -105.00000000000006 \n",
      "\n"
     ]
    }
   ],
   "source": [
    "# calculating the matrix determinant and assigining the value to n.\n",
    "print ('Matrix Determinant:', np.linalg.det(m), '\\n')"
   ]
  },
  {
   "cell_type": "markdown",
   "metadata": {},
   "source": [
    "# 2c)Matrix Inverse"
   ]
  },
  {
   "cell_type": "code",
   "execution_count": 15,
   "metadata": {},
   "outputs": [
    {
     "name": "stdout",
     "output_type": "stream",
     "text": [
      "Matrix inverse:\n",
      " [[-0.6         0.42857143 -0.05714286]\n",
      " [ 0.26666667 -0.04761905 -0.03809524]\n",
      " [ 0.13333333 -0.0952381   0.12380952]] \n",
      "\n"
     ]
    }
   ],
   "source": [
    "## for matrix m apply the matrix inverse function and assign to matrix n.\n",
    "m_inv = np.linalg.inv(m)\n",
    "print ('Matrix inverse:\\n', m_inv, '\\n')"
   ]
  },
  {
   "cell_type": "markdown",
   "metadata": {},
   "source": [
    "# 2d) Matrix Identity"
   ]
  },
  {
   "cell_type": "code",
   "execution_count": 16,
   "metadata": {},
   "outputs": [
    {
     "name": "stdout",
     "output_type": "stream",
     "text": [
      "Product of matrix and its inverse:\n",
      " [[1. 0. 0.]\n",
      " [0. 1. 0.]\n",
      " [0. 0. 1.]]\n"
     ]
    }
   ],
   "source": [
    "# identity matrix (result of matrix x matrix_inverse)\n",
    "iden_m =  np.dot(m, m_inv)\n",
    "iden_m = np.round(np.abs(iden_m), 0)\n",
    "\n",
    "#display the output\n",
    "print ('Product of matrix and its inverse:\\n', iden_m)"
   ]
  },
  {
   "cell_type": "markdown",
   "metadata": {},
   "source": [
    "# 2e)Eigen decomposition"
   ]
  },
  {
   "cell_type": "code",
   "execution_count": 18,
   "metadata": {},
   "outputs": [
    {
     "name": "stdout",
     "output_type": "stream",
     "text": [
      "Eigen Values: [-1.32455532 11.32455532  7.        ] \n",
      "\n",
      "Eigen Vectors:\n",
      " [[-0.91761521  0.46120352 -0.46829291]\n",
      " [ 0.35550789  0.79362022 -0.74926865]\n",
      " [ 0.17775394  0.39681011  0.46829291]]\n"
     ]
    }
   ],
   "source": [
    "# eigen decomposition of matrix m\n",
    "m = np.array([[1, 5, 2],\n",
    "              [4, 7, 4],\n",
    "              [2, 0, 9]])\n",
    "\n",
    "#Assigning the eigen values to varaibles.\n",
    "eigen_vals, eigen_vecs = np.linalg.eig(m)\n",
    "\n",
    "#Display Eigen values\n",
    "print('Eigen Values:', eigen_vals, '\\n')\n",
    "#Display Eigen vectors\n",
    "print('Eigen Vectors:\\n', eigen_vecs)"
   ]
  },
  {
   "cell_type": "markdown",
   "metadata": {},
   "source": [
    "# 2f)Single Value Decomposition"
   ]
  },
  {
   "cell_type": "code",
   "execution_count": 20,
   "metadata": {},
   "outputs": [
    {
     "name": "stdout",
     "output_type": "stream",
     "text": [
      "Getting SVD outputs:-\n",
      "\n",
      "U:\n",
      " [[ 0.3831556  -0.39279153  0.83600634]\n",
      " [ 0.68811254 -0.48239977 -0.54202545]\n",
      " [ 0.61619228  0.78294653  0.0854506 ]] \n",
      "\n",
      "S:\n",
      " [12.10668383  6.91783499  1.25370079] \n",
      "\n",
      "VT:\n",
      " [[ 0.36079164  0.55610321  0.74871798]\n",
      " [-0.10935467 -0.7720271   0.62611158]\n",
      " [-0.92621323  0.30777163  0.21772844]] \n",
      "\n"
     ]
    }
   ],
   "source": [
    "# Assigning array values to m.\n",
    "m = np.array([[1, 5, 2],\n",
    "              [4, 7, 4],\n",
    "              [2, 0, 9]])\n",
    "\n",
    "# doing single value decomposition\n",
    "U, S, VT = np.linalg.svd(m)\n",
    "\n",
    "#Display the mentioned text\n",
    "print ('Getting SVD outputs:-\\n')\n",
    "#Display the value of U\n",
    "print('U:\\n', U, '\\n')\n",
    "#Display the value of S\n",
    "print('S:\\n', S, '\\n')\n",
    "#Display the value of VT\n",
    "print('VT:\\n', VT, '\\n')"
   ]
  },
  {
   "cell_type": "markdown",
   "metadata": {},
   "source": [
    "# 3)Descriptive Statistics"
   ]
  },
  {
   "cell_type": "code",
   "execution_count": 23,
   "metadata": {},
   "outputs": [
    {
     "name": "stdout",
     "output_type": "stream",
     "text": [
      "Data:  [ 6 12  5 16  8  6 11 15  6  8  7 15 13 19  1]\n"
     ]
    }
   ],
   "source": [
    "# import scipy package\n",
    "import scipy as sp\n",
    "# import numpy package\n",
    "import numpy as np\n",
    "# import stats package from scipy package\n",
    "from scipy import stats \n",
    "\n",
    "# get the data information\n",
    "nums = np.random.randint(1,20, size=(1,15))[0]\n",
    "#Display the data.\n",
    "print('Data: ', nums)"
   ]
  },
  {
   "cell_type": "code",
   "execution_count": 24,
   "metadata": {},
   "outputs": [
    {
     "name": "stdout",
     "output_type": "stream",
     "text": [
      "Mean: 9.866666666666667\n",
      "Median: 8.0\n",
      "Mode: ModeResult(mode=array([6]), count=array([3]))\n",
      "Standard Deviation: 4.8424052792893\n",
      "Variance: 23.448888888888884\n",
      "Skew: 0.16599519781562802\n",
      "Kurtosis: -0.8921216764831481\n"
     ]
    }
   ],
   "source": [
    "# Descriptive statistic results\n",
    "# Display the mean value of the nums varaible\n",
    "print ('Mean:', sp.mean(nums))\n",
    "# Display the median value of the nums varaible\n",
    "print ('Median:', sp.median(nums))\n",
    "# Display the mode value of the nums varaible\n",
    "print ('Mode:', sp.stats.mode(nums))\n",
    "# Display the standard deviation value of the nums varaible\n",
    "print ('Standard Deviation:', sp.std(nums))\n",
    "# Display the variance value of the nums varaible\n",
    "print ('Variance:', sp.var(nums))\n",
    "# Display the skew value of the nums varaible\n",
    "print ('Skew:', sp.stats.skew(nums))\n",
    "# Display the Kurtosis value of the nums varaible\n",
    "print ('Kurtosis:', sp.stats.kurtosis(nums))"
   ]
  },
  {
   "cell_type": "markdown",
   "metadata": {},
   "source": [
    "# Predicting Student Recommendation"
   ]
  },
  {
   "cell_type": "markdown",
   "metadata": {},
   "source": [
    "# Data Retrieval"
   ]
  },
  {
   "cell_type": "code",
   "execution_count": 2,
   "metadata": {},
   "outputs": [
    {
     "data": {
      "text/html": [
       "<div>\n",
       "<style scoped>\n",
       "    .dataframe tbody tr th:only-of-type {\n",
       "        vertical-align: middle;\n",
       "    }\n",
       "\n",
       "    .dataframe tbody tr th {\n",
       "        vertical-align: top;\n",
       "    }\n",
       "\n",
       "    .dataframe thead th {\n",
       "        text-align: right;\n",
       "    }\n",
       "</style>\n",
       "<table border=\"1\" class=\"dataframe\">\n",
       "  <thead>\n",
       "    <tr style=\"text-align: right;\">\n",
       "      <th></th>\n",
       "      <th>Name</th>\n",
       "      <th>OverallGrade</th>\n",
       "      <th>Obedient</th>\n",
       "      <th>ResearchScore</th>\n",
       "      <th>ProjectScore</th>\n",
       "      <th>Recommend</th>\n",
       "    </tr>\n",
       "  </thead>\n",
       "  <tbody>\n",
       "    <tr>\n",
       "      <th>0</th>\n",
       "      <td>Henry</td>\n",
       "      <td>A</td>\n",
       "      <td>Y</td>\n",
       "      <td>90</td>\n",
       "      <td>85</td>\n",
       "      <td>Yes</td>\n",
       "    </tr>\n",
       "    <tr>\n",
       "      <th>1</th>\n",
       "      <td>John</td>\n",
       "      <td>C</td>\n",
       "      <td>N</td>\n",
       "      <td>85</td>\n",
       "      <td>51</td>\n",
       "      <td>Yes</td>\n",
       "    </tr>\n",
       "    <tr>\n",
       "      <th>2</th>\n",
       "      <td>David</td>\n",
       "      <td>F</td>\n",
       "      <td>N</td>\n",
       "      <td>10</td>\n",
       "      <td>17</td>\n",
       "      <td>No</td>\n",
       "    </tr>\n",
       "    <tr>\n",
       "      <th>3</th>\n",
       "      <td>Holmes</td>\n",
       "      <td>B</td>\n",
       "      <td>Y</td>\n",
       "      <td>75</td>\n",
       "      <td>71</td>\n",
       "      <td>No</td>\n",
       "    </tr>\n",
       "    <tr>\n",
       "      <th>4</th>\n",
       "      <td>Marvin</td>\n",
       "      <td>E</td>\n",
       "      <td>N</td>\n",
       "      <td>20</td>\n",
       "      <td>30</td>\n",
       "      <td>No</td>\n",
       "    </tr>\n",
       "    <tr>\n",
       "      <th>5</th>\n",
       "      <td>Simon</td>\n",
       "      <td>A</td>\n",
       "      <td>Y</td>\n",
       "      <td>92</td>\n",
       "      <td>79</td>\n",
       "      <td>Yes</td>\n",
       "    </tr>\n",
       "    <tr>\n",
       "      <th>6</th>\n",
       "      <td>Robert</td>\n",
       "      <td>B</td>\n",
       "      <td>Y</td>\n",
       "      <td>60</td>\n",
       "      <td>59</td>\n",
       "      <td>No</td>\n",
       "    </tr>\n",
       "    <tr>\n",
       "      <th>7</th>\n",
       "      <td>Trent</td>\n",
       "      <td>C</td>\n",
       "      <td>Y</td>\n",
       "      <td>75</td>\n",
       "      <td>33</td>\n",
       "      <td>No</td>\n",
       "    </tr>\n",
       "  </tbody>\n",
       "</table>\n",
       "</div>"
      ],
      "text/plain": [
       "     Name OverallGrade Obedient  ResearchScore  ProjectScore Recommend\n",
       "0   Henry            A        Y             90            85       Yes\n",
       "1    John            C        N             85            51       Yes\n",
       "2   David            F        N             10            17        No\n",
       "3  Holmes            B        Y             75            71        No\n",
       "4  Marvin            E        N             20            30        No\n",
       "5   Simon            A        Y             92            79       Yes\n",
       "6  Robert            B        Y             60            59        No\n",
       "7   Trent            C        Y             75            33        No"
      ]
     },
     "execution_count": 2,
     "metadata": {},
     "output_type": "execute_result"
    }
   ],
   "source": [
    "#import panda package\n",
    "import pandas as pd\n",
    "\n",
    "# turn off the warning messages\n",
    "pd.options.mode.chained_assignment = None  # default option is  'warn'\n",
    "\n",
    "# retieving data from the file \"student records\" to \"df\"\n",
    "df = pd.read_csv('student_records.csv')\n",
    "\n",
    "#display the file\n",
    "df\n"
   ]
  },
  {
   "cell_type": "markdown",
   "metadata": {},
   "source": [
    "# Data Preparation"
   ]
  },
  {
   "cell_type": "markdown",
   "metadata": {},
   "source": [
    "## Feature extraction and engineering"
   ]
  },
  {
   "cell_type": "code",
   "execution_count": 8,
   "metadata": {},
   "outputs": [
    {
     "data": {
      "text/html": [
       "<div>\n",
       "<style scoped>\n",
       "    .dataframe tbody tr th:only-of-type {\n",
       "        vertical-align: middle;\n",
       "    }\n",
       "\n",
       "    .dataframe tbody tr th {\n",
       "        vertical-align: top;\n",
       "    }\n",
       "\n",
       "    .dataframe thead th {\n",
       "        text-align: right;\n",
       "    }\n",
       "</style>\n",
       "<table border=\"1\" class=\"dataframe\">\n",
       "  <thead>\n",
       "    <tr style=\"text-align: right;\">\n",
       "      <th></th>\n",
       "      <th>OverallGrade</th>\n",
       "      <th>Obedient</th>\n",
       "      <th>ResearchScore</th>\n",
       "      <th>ProjectScore</th>\n",
       "    </tr>\n",
       "  </thead>\n",
       "  <tbody>\n",
       "    <tr>\n",
       "      <th>0</th>\n",
       "      <td>A</td>\n",
       "      <td>Y</td>\n",
       "      <td>90</td>\n",
       "      <td>85</td>\n",
       "    </tr>\n",
       "    <tr>\n",
       "      <th>1</th>\n",
       "      <td>C</td>\n",
       "      <td>N</td>\n",
       "      <td>85</td>\n",
       "      <td>51</td>\n",
       "    </tr>\n",
       "    <tr>\n",
       "      <th>2</th>\n",
       "      <td>F</td>\n",
       "      <td>N</td>\n",
       "      <td>10</td>\n",
       "      <td>17</td>\n",
       "    </tr>\n",
       "    <tr>\n",
       "      <th>3</th>\n",
       "      <td>B</td>\n",
       "      <td>Y</td>\n",
       "      <td>75</td>\n",
       "      <td>71</td>\n",
       "    </tr>\n",
       "    <tr>\n",
       "      <th>4</th>\n",
       "      <td>E</td>\n",
       "      <td>N</td>\n",
       "      <td>20</td>\n",
       "      <td>30</td>\n",
       "    </tr>\n",
       "    <tr>\n",
       "      <th>5</th>\n",
       "      <td>A</td>\n",
       "      <td>Y</td>\n",
       "      <td>92</td>\n",
       "      <td>79</td>\n",
       "    </tr>\n",
       "    <tr>\n",
       "      <th>6</th>\n",
       "      <td>B</td>\n",
       "      <td>Y</td>\n",
       "      <td>60</td>\n",
       "      <td>59</td>\n",
       "    </tr>\n",
       "    <tr>\n",
       "      <th>7</th>\n",
       "      <td>C</td>\n",
       "      <td>Y</td>\n",
       "      <td>75</td>\n",
       "      <td>33</td>\n",
       "    </tr>\n",
       "  </tbody>\n",
       "</table>\n",
       "</div>"
      ],
      "text/plain": [
       "  OverallGrade Obedient  ResearchScore  ProjectScore\n",
       "0            A        Y             90            85\n",
       "1            C        N             85            51\n",
       "2            F        N             10            17\n",
       "3            B        Y             75            71\n",
       "4            E        N             20            30\n",
       "5            A        Y             92            79\n",
       "6            B        Y             60            59\n",
       "7            C        Y             75            33"
      ]
     },
     "execution_count": 8,
     "metadata": {},
     "output_type": "execute_result"
    }
   ],
   "source": [
    "# assigning a common name to all the feature vraiables\n",
    "feature_names = ['OverallGrade', 'Obedient', 'ResearchScore', 'ProjectScore']\n",
    "training_features = df[feature_names]\n",
    "\n",
    "# display feature varaibles without mentioning all the varaible names.\n",
    "training_features"
   ]
  },
  {
   "cell_type": "code",
   "execution_count": 9,
   "metadata": {},
   "outputs": [
    {
     "data": {
      "text/html": [
       "<div>\n",
       "<style scoped>\n",
       "    .dataframe tbody tr th:only-of-type {\n",
       "        vertical-align: middle;\n",
       "    }\n",
       "\n",
       "    .dataframe tbody tr th {\n",
       "        vertical-align: top;\n",
       "    }\n",
       "\n",
       "    .dataframe thead th {\n",
       "        text-align: right;\n",
       "    }\n",
       "</style>\n",
       "<table border=\"1\" class=\"dataframe\">\n",
       "  <thead>\n",
       "    <tr style=\"text-align: right;\">\n",
       "      <th></th>\n",
       "      <th>Recommend</th>\n",
       "    </tr>\n",
       "  </thead>\n",
       "  <tbody>\n",
       "    <tr>\n",
       "      <th>0</th>\n",
       "      <td>Yes</td>\n",
       "    </tr>\n",
       "    <tr>\n",
       "      <th>1</th>\n",
       "      <td>Yes</td>\n",
       "    </tr>\n",
       "    <tr>\n",
       "      <th>2</th>\n",
       "      <td>No</td>\n",
       "    </tr>\n",
       "    <tr>\n",
       "      <th>3</th>\n",
       "      <td>No</td>\n",
       "    </tr>\n",
       "    <tr>\n",
       "      <th>4</th>\n",
       "      <td>No</td>\n",
       "    </tr>\n",
       "    <tr>\n",
       "      <th>5</th>\n",
       "      <td>Yes</td>\n",
       "    </tr>\n",
       "    <tr>\n",
       "      <th>6</th>\n",
       "      <td>No</td>\n",
       "    </tr>\n",
       "    <tr>\n",
       "      <th>7</th>\n",
       "      <td>No</td>\n",
       "    </tr>\n",
       "  </tbody>\n",
       "</table>\n",
       "</div>"
      ],
      "text/plain": [
       "  Recommend\n",
       "0       Yes\n",
       "1       Yes\n",
       "2        No\n",
       "3        No\n",
       "4        No\n",
       "5       Yes\n",
       "6        No\n",
       "7        No"
      ]
     },
     "execution_count": 9,
     "metadata": {},
     "output_type": "execute_result"
    }
   ],
   "source": [
    "#assigning the varaible Recommend to the outcome_name\n",
    "outcome_name = ['Recommend']\n",
    "\n",
    "#The table df has a outcome_label assigned now\n",
    "outcome_labels = df[outcome_name]\n",
    "\n",
    "# display outcome labels\n",
    "outcome_labels"
   ]
  },
  {
   "cell_type": "code",
   "execution_count": 11,
   "metadata": {},
   "outputs": [],
   "source": [
    "# Based on type assign both the numeric and categorical features to a varaible\n",
    "numeric_feature_names = ['ResearchScore', 'ProjectScore']\n",
    "categoricial_feature_names = ['OverallGrade', 'Obedient']"
   ]
  },
  {
   "cell_type": "markdown",
   "metadata": {},
   "source": [
    "## Numeric Feature Scaling"
   ]
  },
  {
   "cell_type": "code",
   "execution_count": 14,
   "metadata": {},
   "outputs": [
    {
     "name": "stderr",
     "output_type": "stream",
     "text": [
      "C:\\Users\\thispc\\Anaconda3\\Anaconda\\lib\\site-packages\\sklearn\\preprocessing\\data.py:645: DataConversionWarning: Data with input dtype int64 were all converted to float64 by StandardScaler.\n",
      "  return self.partial_fit(X, y)\n",
      "C:\\Users\\thispc\\Anaconda3\\Anaconda\\lib\\site-packages\\ipykernel_launcher.py:10: DataConversionWarning: Data with input dtype int64 were all converted to float64 by StandardScaler.\n",
      "  # Remove the CWD from sys.path while we load stuff.\n"
     ]
    },
    {
     "data": {
      "text/html": [
       "<div>\n",
       "<style scoped>\n",
       "    .dataframe tbody tr th:only-of-type {\n",
       "        vertical-align: middle;\n",
       "    }\n",
       "\n",
       "    .dataframe tbody tr th {\n",
       "        vertical-align: top;\n",
       "    }\n",
       "\n",
       "    .dataframe thead th {\n",
       "        text-align: right;\n",
       "    }\n",
       "</style>\n",
       "<table border=\"1\" class=\"dataframe\">\n",
       "  <thead>\n",
       "    <tr style=\"text-align: right;\">\n",
       "      <th></th>\n",
       "      <th>OverallGrade</th>\n",
       "      <th>Obedient</th>\n",
       "      <th>ResearchScore</th>\n",
       "      <th>ProjectScore</th>\n",
       "    </tr>\n",
       "  </thead>\n",
       "  <tbody>\n",
       "    <tr>\n",
       "      <th>0</th>\n",
       "      <td>A</td>\n",
       "      <td>Y</td>\n",
       "      <td>0.899583</td>\n",
       "      <td>1.376650</td>\n",
       "    </tr>\n",
       "    <tr>\n",
       "      <th>1</th>\n",
       "      <td>C</td>\n",
       "      <td>N</td>\n",
       "      <td>0.730648</td>\n",
       "      <td>-0.091777</td>\n",
       "    </tr>\n",
       "    <tr>\n",
       "      <th>2</th>\n",
       "      <td>F</td>\n",
       "      <td>N</td>\n",
       "      <td>-1.803390</td>\n",
       "      <td>-1.560203</td>\n",
       "    </tr>\n",
       "    <tr>\n",
       "      <th>3</th>\n",
       "      <td>B</td>\n",
       "      <td>Y</td>\n",
       "      <td>0.392776</td>\n",
       "      <td>0.772004</td>\n",
       "    </tr>\n",
       "    <tr>\n",
       "      <th>4</th>\n",
       "      <td>E</td>\n",
       "      <td>N</td>\n",
       "      <td>-1.465519</td>\n",
       "      <td>-0.998746</td>\n",
       "    </tr>\n",
       "    <tr>\n",
       "      <th>5</th>\n",
       "      <td>A</td>\n",
       "      <td>Y</td>\n",
       "      <td>0.967158</td>\n",
       "      <td>1.117516</td>\n",
       "    </tr>\n",
       "    <tr>\n",
       "      <th>6</th>\n",
       "      <td>B</td>\n",
       "      <td>Y</td>\n",
       "      <td>-0.114032</td>\n",
       "      <td>0.253735</td>\n",
       "    </tr>\n",
       "    <tr>\n",
       "      <th>7</th>\n",
       "      <td>C</td>\n",
       "      <td>Y</td>\n",
       "      <td>0.392776</td>\n",
       "      <td>-0.869179</td>\n",
       "    </tr>\n",
       "  </tbody>\n",
       "</table>\n",
       "</div>"
      ],
      "text/plain": [
       "  OverallGrade Obedient  ResearchScore  ProjectScore\n",
       "0            A        Y       0.899583      1.376650\n",
       "1            C        N       0.730648     -0.091777\n",
       "2            F        N      -1.803390     -1.560203\n",
       "3            B        Y       0.392776      0.772004\n",
       "4            E        N      -1.465519     -0.998746\n",
       "5            A        Y       0.967158      1.117516\n",
       "6            B        Y      -0.114032      0.253735\n",
       "7            C        Y       0.392776     -0.869179"
      ]
     },
     "execution_count": 14,
     "metadata": {},
     "output_type": "execute_result"
    }
   ],
   "source": [
    "#import the package StandardScaler from sklearn and assign it to ss.\n",
    "\n",
    "from sklearn.preprocessing import StandardScaler\n",
    "ss = StandardScaler()\n",
    "\n",
    "# performing fit scaler on numeric features\n",
    "ss.fit(training_features[numeric_feature_names])\n",
    "       \n",
    "# scaling numeric features by transform\n",
    "(training_features[numeric_feature_names]) = ss.transform(training_features[numeric_feature_names])\n",
    "       \n",
    "#the above two steps are called fit_transform used for the initial fitting of parameters but it also returns a transformed output.\n",
    "\n",
    "# display the updated featureset\n",
    "training_features"
   ]
  },
  {
   "cell_type": "markdown",
   "metadata": {},
   "source": [
    "## Engineering Categorical Features"
   ]
  },
  {
   "cell_type": "code",
   "execution_count": 15,
   "metadata": {
    "scrolled": true
   },
   "outputs": [
    {
     "data": {
      "text/html": [
       "<div>\n",
       "<style scoped>\n",
       "    .dataframe tbody tr th:only-of-type {\n",
       "        vertical-align: middle;\n",
       "    }\n",
       "\n",
       "    .dataframe tbody tr th {\n",
       "        vertical-align: top;\n",
       "    }\n",
       "\n",
       "    .dataframe thead th {\n",
       "        text-align: right;\n",
       "    }\n",
       "</style>\n",
       "<table border=\"1\" class=\"dataframe\">\n",
       "  <thead>\n",
       "    <tr style=\"text-align: right;\">\n",
       "      <th></th>\n",
       "      <th>ResearchScore</th>\n",
       "      <th>ProjectScore</th>\n",
       "      <th>OverallGrade_A</th>\n",
       "      <th>OverallGrade_B</th>\n",
       "      <th>OverallGrade_C</th>\n",
       "      <th>OverallGrade_E</th>\n",
       "      <th>OverallGrade_F</th>\n",
       "      <th>Obedient_N</th>\n",
       "      <th>Obedient_Y</th>\n",
       "    </tr>\n",
       "  </thead>\n",
       "  <tbody>\n",
       "    <tr>\n",
       "      <th>0</th>\n",
       "      <td>0.899583</td>\n",
       "      <td>1.376650</td>\n",
       "      <td>1</td>\n",
       "      <td>0</td>\n",
       "      <td>0</td>\n",
       "      <td>0</td>\n",
       "      <td>0</td>\n",
       "      <td>0</td>\n",
       "      <td>1</td>\n",
       "    </tr>\n",
       "    <tr>\n",
       "      <th>1</th>\n",
       "      <td>0.730648</td>\n",
       "      <td>-0.091777</td>\n",
       "      <td>0</td>\n",
       "      <td>0</td>\n",
       "      <td>1</td>\n",
       "      <td>0</td>\n",
       "      <td>0</td>\n",
       "      <td>1</td>\n",
       "      <td>0</td>\n",
       "    </tr>\n",
       "    <tr>\n",
       "      <th>2</th>\n",
       "      <td>-1.803390</td>\n",
       "      <td>-1.560203</td>\n",
       "      <td>0</td>\n",
       "      <td>0</td>\n",
       "      <td>0</td>\n",
       "      <td>0</td>\n",
       "      <td>1</td>\n",
       "      <td>1</td>\n",
       "      <td>0</td>\n",
       "    </tr>\n",
       "    <tr>\n",
       "      <th>3</th>\n",
       "      <td>0.392776</td>\n",
       "      <td>0.772004</td>\n",
       "      <td>0</td>\n",
       "      <td>1</td>\n",
       "      <td>0</td>\n",
       "      <td>0</td>\n",
       "      <td>0</td>\n",
       "      <td>0</td>\n",
       "      <td>1</td>\n",
       "    </tr>\n",
       "    <tr>\n",
       "      <th>4</th>\n",
       "      <td>-1.465519</td>\n",
       "      <td>-0.998746</td>\n",
       "      <td>0</td>\n",
       "      <td>0</td>\n",
       "      <td>0</td>\n",
       "      <td>1</td>\n",
       "      <td>0</td>\n",
       "      <td>1</td>\n",
       "      <td>0</td>\n",
       "    </tr>\n",
       "    <tr>\n",
       "      <th>5</th>\n",
       "      <td>0.967158</td>\n",
       "      <td>1.117516</td>\n",
       "      <td>1</td>\n",
       "      <td>0</td>\n",
       "      <td>0</td>\n",
       "      <td>0</td>\n",
       "      <td>0</td>\n",
       "      <td>0</td>\n",
       "      <td>1</td>\n",
       "    </tr>\n",
       "    <tr>\n",
       "      <th>6</th>\n",
       "      <td>-0.114032</td>\n",
       "      <td>0.253735</td>\n",
       "      <td>0</td>\n",
       "      <td>1</td>\n",
       "      <td>0</td>\n",
       "      <td>0</td>\n",
       "      <td>0</td>\n",
       "      <td>0</td>\n",
       "      <td>1</td>\n",
       "    </tr>\n",
       "    <tr>\n",
       "      <th>7</th>\n",
       "      <td>0.392776</td>\n",
       "      <td>-0.869179</td>\n",
       "      <td>0</td>\n",
       "      <td>0</td>\n",
       "      <td>1</td>\n",
       "      <td>0</td>\n",
       "      <td>0</td>\n",
       "      <td>0</td>\n",
       "      <td>1</td>\n",
       "    </tr>\n",
       "  </tbody>\n",
       "</table>\n",
       "</div>"
      ],
      "text/plain": [
       "   ResearchScore  ProjectScore  OverallGrade_A  OverallGrade_B  \\\n",
       "0       0.899583      1.376650               1               0   \n",
       "1       0.730648     -0.091777               0               0   \n",
       "2      -1.803390     -1.560203               0               0   \n",
       "3       0.392776      0.772004               0               1   \n",
       "4      -1.465519     -0.998746               0               0   \n",
       "5       0.967158      1.117516               1               0   \n",
       "6      -0.114032      0.253735               0               1   \n",
       "7       0.392776     -0.869179               0               0   \n",
       "\n",
       "   OverallGrade_C  OverallGrade_E  OverallGrade_F  Obedient_N  Obedient_Y  \n",
       "0               0               0               0           0           1  \n",
       "1               1               0               0           1           0  \n",
       "2               0               0               1           1           0  \n",
       "3               0               0               0           0           1  \n",
       "4               0               1               0           1           0  \n",
       "5               0               0               0           0           1  \n",
       "6               0               0               0           0           1  \n",
       "7               1               0               0           0           1  "
      ]
     },
     "execution_count": 15,
     "metadata": {},
     "output_type": "execute_result"
    }
   ],
   "source": [
    "# converting the column of catergorical variables to row based on the no. of categories in the varaible\n",
    "training_features = pd.get_dummies(training_features, columns=categoricial_feature_names)\n",
    "\n",
    "# display newly engineering features\n",
    "training_features"
   ]
  },
  {
   "cell_type": "code",
   "execution_count": 17,
   "metadata": {},
   "outputs": [
    {
     "data": {
      "text/plain": [
       "['OverallGrade_B',\n",
       " 'OverallGrade_A',\n",
       " 'OverallGrade_C',\n",
       " 'OverallGrade_E',\n",
       " 'OverallGrade_F',\n",
       " 'Obedient_Y',\n",
       " 'Obedient_N']"
      ]
     },
     "execution_count": 17,
     "metadata": {},
     "output_type": "execute_result"
    }
   ],
   "source": [
    "# create a varaible which displays only categorical feature variables\n",
    "categorical_engineered_features = list(set(training_features.columns) - set(numeric_feature_names))\n",
    "\n",
    "#display the categorical feature variable\n",
    "categorical_engineered_features"
   ]
  },
  {
   "cell_type": "markdown",
   "metadata": {},
   "source": [
    "# Modeling"
   ]
  },
  {
   "cell_type": "code",
   "execution_count": 18,
   "metadata": {},
   "outputs": [
    {
     "name": "stderr",
     "output_type": "stream",
     "text": [
      "C:\\Users\\thispc\\Anaconda3\\Anaconda\\lib\\site-packages\\sklearn\\linear_model\\logistic.py:433: FutureWarning: Default solver will be changed to 'lbfgs' in 0.22. Specify a solver to silence this warning.\n",
      "  FutureWarning)\n"
     ]
    },
    {
     "data": {
      "text/plain": [
       "LogisticRegression(C=1.0, class_weight=None, dual=False, fit_intercept=True,\n",
       "          intercept_scaling=1, max_iter=100, multi_class='warn',\n",
       "          n_jobs=None, penalty='l2', random_state=None, solver='warn',\n",
       "          tol=0.0001, verbose=0, warm_start=False)"
      ]
     },
     "execution_count": 18,
     "metadata": {},
     "output_type": "execute_result"
    }
   ],
   "source": [
    "#import logistic regression package from sklearn\n",
    "from sklearn.linear_model import LogisticRegression\n",
    "import numpy as np\n",
    "\n",
    "#assign the function Logistic regression to lr\n",
    "lr = LogisticRegression() \n",
    "\n",
    "# fitting the model to the training data is essentially the training part of modeling process.\n",
    "model = lr.fit(training_features, np.array(outcome_labels['Recommend']))\n",
    "\n",
    "# display model parameters\n",
    "model"
   ]
  },
  {
   "cell_type": "markdown",
   "metadata": {},
   "source": [
    "## Model Evaluation"
   ]
  },
  {
   "cell_type": "code",
   "execution_count": 19,
   "metadata": {},
   "outputs": [
    {
     "name": "stdout",
     "output_type": "stream",
     "text": [
      "Accuracy: 100.0 %\n",
      "Classification Stats:\n",
      "              precision    recall  f1-score   support\n",
      "\n",
      "          No       1.00      1.00      1.00         5\n",
      "         Yes       1.00      1.00      1.00         3\n",
      "\n",
      "   micro avg       1.00      1.00      1.00         8\n",
      "   macro avg       1.00      1.00      1.00         8\n",
      "weighted avg       1.00      1.00      1.00         8\n",
      "\n"
     ]
    }
   ],
   "source": [
    "# simple evaluation on training data to make it ready for predictions\n",
    "pred_labels = model.predict(training_features)\n",
    "actual_labels = np.array(outcome_labels['Recommend'])\n",
    "\n",
    "# evaluate model performance by importing classification and accuracy score from sklearn\n",
    "from sklearn.metrics import accuracy_score\n",
    "from sklearn.metrics import classification_report\n",
    "\n",
    "#Display the accuracy score after calculation and the classification report\n",
    "print('Accuracy:', float(accuracy_score(actual_labels, pred_labels))*100, '%')\n",
    "print('Classification Stats:')\n",
    "print(classification_report(actual_labels, pred_labels))"
   ]
  },
  {
   "cell_type": "markdown",
   "metadata": {},
   "source": [
    "## Model Deployment "
   ]
  },
  {
   "cell_type": "code",
   "execution_count": 22,
   "metadata": {},
   "outputs": [
    {
     "data": {
      "text/plain": [
       "['Scaler/scaler.pickle']"
      ]
     },
     "execution_count": 22,
     "metadata": {},
     "output_type": "execute_result"
    }
   ],
   "source": [
    "#import joblib package from sklearn\n",
    "from sklearn.externals import joblib\n",
    "\n",
    "#import os package\n",
    "import os\n",
    "\n",
    "# copythe models to be deployed on your server\n",
    "if not os.path.exists('Model'):\n",
    "    os.mkdir('Model')\n",
    "if not os.path.exists('Scaler'):\n",
    "    os.mkdir('Scaler') \n",
    "\n",
    "# dump the model into server\n",
    "joblib.dump(model, r'Model/model.pickle') \n",
    "joblib.dump(ss, r'Scaler/scaler.pickle') "
   ]
  },
  {
   "cell_type": "markdown",
   "metadata": {},
   "source": [
    "## Prediction in Action"
   ]
  },
  {
   "cell_type": "code",
   "execution_count": 24,
   "metadata": {},
   "outputs": [],
   "source": [
    "# load model and scaler objects in varaibles model and scaler respectively\n",
    "model = joblib.load(r'Model/model.pickle')\n",
    "scaler = joblib.load(r'Scaler/scaler.pickle')"
   ]
  },
  {
   "cell_type": "code",
   "execution_count": 25,
   "metadata": {},
   "outputs": [
    {
     "data": {
      "text/html": [
       "<div>\n",
       "<style scoped>\n",
       "    .dataframe tbody tr th:only-of-type {\n",
       "        vertical-align: middle;\n",
       "    }\n",
       "\n",
       "    .dataframe tbody tr th {\n",
       "        vertical-align: top;\n",
       "    }\n",
       "\n",
       "    .dataframe thead th {\n",
       "        text-align: right;\n",
       "    }\n",
       "</style>\n",
       "<table border=\"1\" class=\"dataframe\">\n",
       "  <thead>\n",
       "    <tr style=\"text-align: right;\">\n",
       "      <th></th>\n",
       "      <th>Name</th>\n",
       "      <th>OverallGrade</th>\n",
       "      <th>Obedient</th>\n",
       "      <th>ResearchScore</th>\n",
       "      <th>ProjectScore</th>\n",
       "    </tr>\n",
       "  </thead>\n",
       "  <tbody>\n",
       "    <tr>\n",
       "      <th>0</th>\n",
       "      <td>Nathan</td>\n",
       "      <td>F</td>\n",
       "      <td>N</td>\n",
       "      <td>30</td>\n",
       "      <td>20</td>\n",
       "    </tr>\n",
       "    <tr>\n",
       "      <th>1</th>\n",
       "      <td>Thomas</td>\n",
       "      <td>A</td>\n",
       "      <td>Y</td>\n",
       "      <td>78</td>\n",
       "      <td>80</td>\n",
       "    </tr>\n",
       "  </tbody>\n",
       "</table>\n",
       "</div>"
      ],
      "text/plain": [
       "     Name OverallGrade Obedient  ResearchScore  ProjectScore\n",
       "0  Nathan            F        N             30            20\n",
       "1  Thomas            A        Y             78            80"
      ]
     },
     "execution_count": 25,
     "metadata": {},
     "output_type": "execute_result"
    }
   ],
   "source": [
    "#data retrieval and assigning to varaible new_data\n",
    "new_data = pd.DataFrame([{'Name': 'Nathan', 'OverallGrade': 'F', 'Obedient': 'N', 'ResearchScore': 30, 'ProjectScore': 20},\n",
    "                  {'Name': 'Thomas', 'OverallGrade': 'A', 'Obedient': 'Y', 'ResearchScore': 78, 'ProjectScore': 80}])\n",
    "new_data = new_data[['Name', 'OverallGrade', 'Obedient', 'ResearchScore', 'ProjectScore']]\n",
    "\n",
    "#display new data\n",
    "new_data"
   ]
  },
  {
   "cell_type": "code",
   "execution_count": 26,
   "metadata": {},
   "outputs": [
    {
     "name": "stderr",
     "output_type": "stream",
     "text": [
      "C:\\Users\\thispc\\Anaconda3\\Anaconda\\lib\\site-packages\\ipykernel_launcher.py:5: DataConversionWarning: Data with input dtype int64 were all converted to float64 by StandardScaler.\n",
      "  \"\"\"\n"
     ]
    },
    {
     "data": {
      "text/html": [
       "<div>\n",
       "<style scoped>\n",
       "    .dataframe tbody tr th:only-of-type {\n",
       "        vertical-align: middle;\n",
       "    }\n",
       "\n",
       "    .dataframe tbody tr th {\n",
       "        vertical-align: top;\n",
       "    }\n",
       "\n",
       "    .dataframe thead th {\n",
       "        text-align: right;\n",
       "    }\n",
       "</style>\n",
       "<table border=\"1\" class=\"dataframe\">\n",
       "  <thead>\n",
       "    <tr style=\"text-align: right;\">\n",
       "      <th></th>\n",
       "      <th>ResearchScore</th>\n",
       "      <th>ProjectScore</th>\n",
       "      <th>OverallGrade_A</th>\n",
       "      <th>OverallGrade_F</th>\n",
       "      <th>Obedient_N</th>\n",
       "      <th>Obedient_Y</th>\n",
       "    </tr>\n",
       "  </thead>\n",
       "  <tbody>\n",
       "    <tr>\n",
       "      <th>0</th>\n",
       "      <td>-1.127647</td>\n",
       "      <td>-1.430636</td>\n",
       "      <td>0</td>\n",
       "      <td>1</td>\n",
       "      <td>1</td>\n",
       "      <td>0</td>\n",
       "    </tr>\n",
       "    <tr>\n",
       "      <th>1</th>\n",
       "      <td>0.494137</td>\n",
       "      <td>1.160705</td>\n",
       "      <td>1</td>\n",
       "      <td>0</td>\n",
       "      <td>0</td>\n",
       "      <td>1</td>\n",
       "    </tr>\n",
       "  </tbody>\n",
       "</table>\n",
       "</div>"
      ],
      "text/plain": [
       "   ResearchScore  ProjectScore  OverallGrade_A  OverallGrade_F  Obedient_N  \\\n",
       "0      -1.127647     -1.430636               0               1           1   \n",
       "1       0.494137      1.160705               1               0           0   \n",
       "\n",
       "   Obedient_Y  \n",
       "0           0  \n",
       "1           1  "
      ]
     },
     "execution_count": 26,
     "metadata": {},
     "output_type": "execute_result"
    }
   ],
   "source": [
    "## data preparation for new data\n",
    "prediction_features = new_data[feature_names]\n",
    "\n",
    "# scaling of new sata\n",
    "prediction_features[numeric_feature_names] = scaler.transform(prediction_features[numeric_feature_names])\n",
    "\n",
    "# engineering categorical variables of new data\n",
    "prediction_features = pd.get_dummies(prediction_features, columns=categoricial_feature_names)\n",
    "\n",
    "# display feature set of new data\n",
    "prediction_features"
   ]
  },
  {
   "cell_type": "code",
   "execution_count": 28,
   "metadata": {},
   "outputs": [
    {
     "data": {
      "text/html": [
       "<div>\n",
       "<style scoped>\n",
       "    .dataframe tbody tr th:only-of-type {\n",
       "        vertical-align: middle;\n",
       "    }\n",
       "\n",
       "    .dataframe tbody tr th {\n",
       "        vertical-align: top;\n",
       "    }\n",
       "\n",
       "    .dataframe thead th {\n",
       "        text-align: right;\n",
       "    }\n",
       "</style>\n",
       "<table border=\"1\" class=\"dataframe\">\n",
       "  <thead>\n",
       "    <tr style=\"text-align: right;\">\n",
       "      <th></th>\n",
       "      <th>ResearchScore</th>\n",
       "      <th>ProjectScore</th>\n",
       "      <th>OverallGrade_A</th>\n",
       "      <th>OverallGrade_F</th>\n",
       "      <th>Obedient_N</th>\n",
       "      <th>Obedient_Y</th>\n",
       "      <th>OverallGrade_E</th>\n",
       "      <th>OverallGrade_B</th>\n",
       "      <th>OverallGrade_C</th>\n",
       "    </tr>\n",
       "  </thead>\n",
       "  <tbody>\n",
       "    <tr>\n",
       "      <th>0</th>\n",
       "      <td>-1.127647</td>\n",
       "      <td>-1.430636</td>\n",
       "      <td>0</td>\n",
       "      <td>1</td>\n",
       "      <td>1</td>\n",
       "      <td>0</td>\n",
       "      <td>0</td>\n",
       "      <td>0</td>\n",
       "      <td>0</td>\n",
       "    </tr>\n",
       "    <tr>\n",
       "      <th>1</th>\n",
       "      <td>0.494137</td>\n",
       "      <td>1.160705</td>\n",
       "      <td>1</td>\n",
       "      <td>0</td>\n",
       "      <td>0</td>\n",
       "      <td>1</td>\n",
       "      <td>0</td>\n",
       "      <td>0</td>\n",
       "      <td>0</td>\n",
       "    </tr>\n",
       "  </tbody>\n",
       "</table>\n",
       "</div>"
      ],
      "text/plain": [
       "   ResearchScore  ProjectScore  OverallGrade_A  OverallGrade_F  Obedient_N  \\\n",
       "0      -1.127647     -1.430636               0               1           1   \n",
       "1       0.494137      1.160705               1               0           0   \n",
       "\n",
       "   Obedient_Y  OverallGrade_E  OverallGrade_B  OverallGrade_C  \n",
       "0           0               0               0               0  \n",
       "1           1               0               0               0  "
      ]
     },
     "execution_count": 28,
     "metadata": {},
     "output_type": "execute_result"
    }
   ],
   "source": [
    "# add missing categorical feature columns\n",
    "current_categorical_engineered_features = set(prediction_features.columns) - set(numeric_feature_names)\n",
    "missing_features = set(categorical_engineered_features) - current_categorical_engineered_features\n",
    "for feature in missing_features:\n",
    "    # add zeros since feature is absent in these data samples\n",
    "    prediction_features[feature] = [0] * len(prediction_features) \n",
    "\n",
    "# view final feature set\n",
    "prediction_features"
   ]
  },
  {
   "cell_type": "code",
   "execution_count": 29,
   "metadata": {},
   "outputs": [
    {
     "data": {
      "text/html": [
       "<div>\n",
       "<style scoped>\n",
       "    .dataframe tbody tr th:only-of-type {\n",
       "        vertical-align: middle;\n",
       "    }\n",
       "\n",
       "    .dataframe tbody tr th {\n",
       "        vertical-align: top;\n",
       "    }\n",
       "\n",
       "    .dataframe thead th {\n",
       "        text-align: right;\n",
       "    }\n",
       "</style>\n",
       "<table border=\"1\" class=\"dataframe\">\n",
       "  <thead>\n",
       "    <tr style=\"text-align: right;\">\n",
       "      <th></th>\n",
       "      <th>Name</th>\n",
       "      <th>OverallGrade</th>\n",
       "      <th>Obedient</th>\n",
       "      <th>ResearchScore</th>\n",
       "      <th>ProjectScore</th>\n",
       "      <th>Recommend</th>\n",
       "    </tr>\n",
       "  </thead>\n",
       "  <tbody>\n",
       "    <tr>\n",
       "      <th>0</th>\n",
       "      <td>Nathan</td>\n",
       "      <td>F</td>\n",
       "      <td>N</td>\n",
       "      <td>30</td>\n",
       "      <td>20</td>\n",
       "      <td>No</td>\n",
       "    </tr>\n",
       "    <tr>\n",
       "      <th>1</th>\n",
       "      <td>Thomas</td>\n",
       "      <td>A</td>\n",
       "      <td>Y</td>\n",
       "      <td>78</td>\n",
       "      <td>80</td>\n",
       "      <td>Yes</td>\n",
       "    </tr>\n",
       "  </tbody>\n",
       "</table>\n",
       "</div>"
      ],
      "text/plain": [
       "     Name OverallGrade Obedient  ResearchScore  ProjectScore Recommend\n",
       "0  Nathan            F        N             30            20        No\n",
       "1  Thomas            A        Y             78            80       Yes"
      ]
     },
     "execution_count": 29,
     "metadata": {},
     "output_type": "execute_result"
    }
   ],
   "source": [
    "## predict using model prepared before\n",
    "predictions = model.predict(prediction_features)\n",
    "\n",
    "## display the results for new data\n",
    "new_data['Recommend'] = predictions\n",
    "\n",
    "#display the output\n",
    "new_data"
   ]
  },
  {
   "cell_type": "code",
   "execution_count": null,
   "metadata": {},
   "outputs": [],
   "source": []
  }
 ],
 "metadata": {
  "kernelspec": {
   "display_name": "Python 3",
   "language": "python",
   "name": "python3"
  },
  "language_info": {
   "codemirror_mode": {
    "name": "ipython",
    "version": 3
   },
   "file_extension": ".py",
   "mimetype": "text/x-python",
   "name": "python",
   "nbconvert_exporter": "python",
   "pygments_lexer": "ipython3",
   "version": "3.7.3"
  }
 },
 "nbformat": 4,
 "nbformat_minor": 2
}
